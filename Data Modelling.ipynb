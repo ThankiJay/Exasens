{
 "cells": [
  {
   "cell_type": "markdown",
   "metadata": {},
   "source": [
    "# Importing the libraries"
   ]
  },
  {
   "cell_type": "code",
   "execution_count": 192,
   "metadata": {},
   "outputs": [],
   "source": [
    "import pandas as pd\n",
    "import matplotlib.pyplot as plt\n",
    "import seaborn as sns\n",
    "from sklearn.model_selection import train_test_split\n",
    "from sklearn.preprocessing import StandardScaler\n",
    "from sklearn.preprocessing import LabelEncoder\n",
    "from sklearn.metrics import classification_report,accuracy_score,precision_score,recall_score\n",
    "from yellowbrick import ROCAUC\n",
    "from imblearn.over_sampling import SMOTE\n",
    "from warnings import filterwarnings\n",
    "filterwarnings('ignore')"
   ]
  },
  {
   "cell_type": "markdown",
   "metadata": {},
   "source": [
    "# Importing the data "
   ]
  },
  {
   "cell_type": "code",
   "execution_count": 193,
   "metadata": {},
   "outputs": [
    {
     "data": {
      "text/html": [
       "<div>\n",
       "<style scoped>\n",
       "    .dataframe tbody tr th:only-of-type {\n",
       "        vertical-align: middle;\n",
       "    }\n",
       "\n",
       "    .dataframe tbody tr th {\n",
       "        vertical-align: top;\n",
       "    }\n",
       "\n",
       "    .dataframe thead th {\n",
       "        text-align: right;\n",
       "    }\n",
       "</style>\n",
       "<table border=\"1\" class=\"dataframe\">\n",
       "  <thead>\n",
       "    <tr style=\"text-align: right;\">\n",
       "      <th></th>\n",
       "      <th>Imaginary Part: Min</th>\n",
       "      <th>Imaginary Part: Avg</th>\n",
       "      <th>Real Part: Min</th>\n",
       "      <th>Real Part: Avg</th>\n",
       "      <th>Gender</th>\n",
       "      <th>Age</th>\n",
       "      <th>Smoking</th>\n",
       "      <th>Diagnosis</th>\n",
       "    </tr>\n",
       "  </thead>\n",
       "  <tbody>\n",
       "    <tr>\n",
       "      <th>0</th>\n",
       "      <td>-320.61</td>\n",
       "      <td>-300.563531</td>\n",
       "      <td>-495.26</td>\n",
       "      <td>-464.171991</td>\n",
       "      <td>1.0</td>\n",
       "      <td>77.0</td>\n",
       "      <td>2.0</td>\n",
       "      <td>1</td>\n",
       "    </tr>\n",
       "    <tr>\n",
       "      <th>1</th>\n",
       "      <td>-325.39</td>\n",
       "      <td>-314.750360</td>\n",
       "      <td>-473.73</td>\n",
       "      <td>-469.263140</td>\n",
       "      <td>0.0</td>\n",
       "      <td>72.0</td>\n",
       "      <td>2.0</td>\n",
       "      <td>1</td>\n",
       "    </tr>\n",
       "    <tr>\n",
       "      <th>2</th>\n",
       "      <td>-323.00</td>\n",
       "      <td>-317.436056</td>\n",
       "      <td>-476.12</td>\n",
       "      <td>-471.897667</td>\n",
       "      <td>1.0</td>\n",
       "      <td>73.0</td>\n",
       "      <td>3.0</td>\n",
       "      <td>1</td>\n",
       "    </tr>\n",
       "    <tr>\n",
       "      <th>3</th>\n",
       "      <td>-327.78</td>\n",
       "      <td>-317.399670</td>\n",
       "      <td>-473.73</td>\n",
       "      <td>-468.856388</td>\n",
       "      <td>1.0</td>\n",
       "      <td>76.0</td>\n",
       "      <td>2.0</td>\n",
       "      <td>1</td>\n",
       "    </tr>\n",
       "    <tr>\n",
       "      <th>4</th>\n",
       "      <td>-325.39</td>\n",
       "      <td>-316.155785</td>\n",
       "      <td>-478.52</td>\n",
       "      <td>-472.869783</td>\n",
       "      <td>0.0</td>\n",
       "      <td>65.0</td>\n",
       "      <td>2.0</td>\n",
       "      <td>1</td>\n",
       "    </tr>\n",
       "  </tbody>\n",
       "</table>\n",
       "</div>"
      ],
      "text/plain": [
       "   Imaginary Part: Min  Imaginary Part: Avg  Real Part: Min  Real Part: Avg  \\\n",
       "0              -320.61          -300.563531         -495.26     -464.171991   \n",
       "1              -325.39          -314.750360         -473.73     -469.263140   \n",
       "2              -323.00          -317.436056         -476.12     -471.897667   \n",
       "3              -327.78          -317.399670         -473.73     -468.856388   \n",
       "4              -325.39          -316.155785         -478.52     -472.869783   \n",
       "\n",
       "   Gender   Age  Smoking  Diagnosis  \n",
       "0     1.0  77.0      2.0          1  \n",
       "1     0.0  72.0      2.0          1  \n",
       "2     1.0  73.0      3.0          1  \n",
       "3     1.0  76.0      2.0          1  \n",
       "4     0.0  65.0      2.0          1  "
      ]
     },
     "execution_count": 193,
     "metadata": {},
     "output_type": "execute_result"
    }
   ],
   "source": [
    "data = pd.read_csv('Data/cleaned_data.csv')\n",
    "data.head()"
   ]
  },
  {
   "cell_type": "markdown",
   "metadata": {},
   "source": [
    "# Feature Scaling"
   ]
  },
  {
   "cell_type": "code",
   "execution_count": 194,
   "metadata": {},
   "outputs": [
    {
     "data": {
      "text/html": [
       "<div>\n",
       "<style scoped>\n",
       "    .dataframe tbody tr th:only-of-type {\n",
       "        vertical-align: middle;\n",
       "    }\n",
       "\n",
       "    .dataframe tbody tr th {\n",
       "        vertical-align: top;\n",
       "    }\n",
       "\n",
       "    .dataframe thead th {\n",
       "        text-align: right;\n",
       "    }\n",
       "</style>\n",
       "<table border=\"1\" class=\"dataframe\">\n",
       "  <thead>\n",
       "    <tr style=\"text-align: right;\">\n",
       "      <th></th>\n",
       "      <th>Imaginary Part: Min</th>\n",
       "      <th>Imaginary Part: Avg</th>\n",
       "      <th>Real Part: Min</th>\n",
       "      <th>Real Part: Avg</th>\n",
       "      <th>Gender</th>\n",
       "      <th>Age</th>\n",
       "      <th>Smoking</th>\n",
       "    </tr>\n",
       "  </thead>\n",
       "  <tbody>\n",
       "    <tr>\n",
       "      <th>0</th>\n",
       "      <td>-0.200429</td>\n",
       "      <td>0.164022</td>\n",
       "      <td>-0.456438</td>\n",
       "      <td>-0.125737</td>\n",
       "      <td>0.799590</td>\n",
       "      <td>1.239927</td>\n",
       "      <td>0.373718</td>\n",
       "    </tr>\n",
       "    <tr>\n",
       "      <th>1</th>\n",
       "      <td>-0.369452</td>\n",
       "      <td>-0.387892</td>\n",
       "      <td>-0.014925</td>\n",
       "      <td>-0.242758</td>\n",
       "      <td>-1.250641</td>\n",
       "      <td>0.991345</td>\n",
       "      <td>0.373718</td>\n",
       "    </tr>\n",
       "    <tr>\n",
       "      <th>2</th>\n",
       "      <td>-0.284941</td>\n",
       "      <td>-0.492374</td>\n",
       "      <td>-0.063936</td>\n",
       "      <td>-0.303313</td>\n",
       "      <td>0.799590</td>\n",
       "      <td>1.041062</td>\n",
       "      <td>1.868588</td>\n",
       "    </tr>\n",
       "    <tr>\n",
       "      <th>3</th>\n",
       "      <td>-0.453963</td>\n",
       "      <td>-0.490958</td>\n",
       "      <td>-0.014925</td>\n",
       "      <td>-0.233409</td>\n",
       "      <td>0.799590</td>\n",
       "      <td>1.190211</td>\n",
       "      <td>0.373718</td>\n",
       "    </tr>\n",
       "    <tr>\n",
       "      <th>4</th>\n",
       "      <td>-0.369452</td>\n",
       "      <td>-0.442567</td>\n",
       "      <td>-0.113153</td>\n",
       "      <td>-0.325658</td>\n",
       "      <td>-1.250641</td>\n",
       "      <td>0.643330</td>\n",
       "      <td>0.373718</td>\n",
       "    </tr>\n",
       "  </tbody>\n",
       "</table>\n",
       "</div>"
      ],
      "text/plain": [
       "   Imaginary Part: Min  Imaginary Part: Avg  Real Part: Min  Real Part: Avg  \\\n",
       "0            -0.200429             0.164022       -0.456438       -0.125737   \n",
       "1            -0.369452            -0.387892       -0.014925       -0.242758   \n",
       "2            -0.284941            -0.492374       -0.063936       -0.303313   \n",
       "3            -0.453963            -0.490958       -0.014925       -0.233409   \n",
       "4            -0.369452            -0.442567       -0.113153       -0.325658   \n",
       "\n",
       "     Gender       Age   Smoking  \n",
       "0  0.799590  1.239927  0.373718  \n",
       "1 -1.250641  0.991345  0.373718  \n",
       "2  0.799590  1.041062  1.868588  \n",
       "3  0.799590  1.190211  0.373718  \n",
       "4 -1.250641  0.643330  0.373718  "
      ]
     },
     "execution_count": 194,
     "metadata": {},
     "output_type": "execute_result"
    }
   ],
   "source": [
    "features = ['Imaginary Part: Min', 'Imaginary Part: Avg', 'Real Part: Min', 'Real Part: Avg', 'Gender', 'Age', 'Smoking']\n",
    "target = 'Diagnosis'\n",
    "X = data[features]\n",
    "y = data[target]\n",
    "scaler = StandardScaler()\n",
    "X_scaled = scaler.fit_transform(X)\n",
    "X = pd.DataFrame(X_scaled, columns=features)\n",
    "X.head()\n"
   ]
  },
  {
   "cell_type": "markdown",
   "metadata": {},
   "source": [
    "# Splling the data"
   ]
  },
  {
   "cell_type": "code",
   "execution_count": 195,
   "metadata": {},
   "outputs": [],
   "source": [
    "X_train, X_test, y_train, y_test = train_test_split(X, y, test_size=0.3, random_state=42)"
   ]
  },
  {
   "cell_type": "markdown",
   "metadata": {},
   "source": [
    "# Balancing the classes using smote\n"
   ]
  },
  {
   "cell_type": "code",
   "execution_count": 196,
   "metadata": {},
   "outputs": [
    {
     "data": {
      "text/html": [
       "<div>\n",
       "<style scoped>\n",
       "    .dataframe tbody tr th:only-of-type {\n",
       "        vertical-align: middle;\n",
       "    }\n",
       "\n",
       "    .dataframe tbody tr th {\n",
       "        vertical-align: top;\n",
       "    }\n",
       "\n",
       "    .dataframe thead th {\n",
       "        text-align: right;\n",
       "    }\n",
       "</style>\n",
       "<table border=\"1\" class=\"dataframe\">\n",
       "  <thead>\n",
       "    <tr style=\"text-align: right;\">\n",
       "      <th></th>\n",
       "      <th>Imaginary Part: Min</th>\n",
       "      <th>Imaginary Part: Avg</th>\n",
       "      <th>Real Part: Min</th>\n",
       "      <th>Real Part: Avg</th>\n",
       "      <th>Gender</th>\n",
       "      <th>Age</th>\n",
       "      <th>Smoking</th>\n",
       "    </tr>\n",
       "  </thead>\n",
       "  <tbody>\n",
       "    <tr>\n",
       "      <th>0</th>\n",
       "      <td>-0.031053</td>\n",
       "      <td>0.408866</td>\n",
       "      <td>0.034087</td>\n",
       "      <td>-0.103244</td>\n",
       "      <td>-1.250641</td>\n",
       "      <td>0.195883</td>\n",
       "      <td>0.373718</td>\n",
       "    </tr>\n",
       "    <tr>\n",
       "      <th>1</th>\n",
       "      <td>-0.453963</td>\n",
       "      <td>-0.622354</td>\n",
       "      <td>-0.113153</td>\n",
       "      <td>-0.288215</td>\n",
       "      <td>-1.250641</td>\n",
       "      <td>-0.699013</td>\n",
       "      <td>-1.121153</td>\n",
       "    </tr>\n",
       "    <tr>\n",
       "      <th>2</th>\n",
       "      <td>-0.200429</td>\n",
       "      <td>-0.281750</td>\n",
       "      <td>-0.014925</td>\n",
       "      <td>-0.193448</td>\n",
       "      <td>-1.250641</td>\n",
       "      <td>-0.400714</td>\n",
       "      <td>-1.121153</td>\n",
       "    </tr>\n",
       "    <tr>\n",
       "      <th>3</th>\n",
       "      <td>2.968209</td>\n",
       "      <td>2.870266</td>\n",
       "      <td>0.635758</td>\n",
       "      <td>0.383892</td>\n",
       "      <td>0.799590</td>\n",
       "      <td>1.289644</td>\n",
       "      <td>0.373718</td>\n",
       "    </tr>\n",
       "    <tr>\n",
       "      <th>4</th>\n",
       "      <td>-0.200429</td>\n",
       "      <td>-0.267213</td>\n",
       "      <td>-0.063936</td>\n",
       "      <td>-0.311025</td>\n",
       "      <td>0.799590</td>\n",
       "      <td>-1.494475</td>\n",
       "      <td>-1.121153</td>\n",
       "    </tr>\n",
       "  </tbody>\n",
       "</table>\n",
       "</div>"
      ],
      "text/plain": [
       "   Imaginary Part: Min  Imaginary Part: Avg  Real Part: Min  Real Part: Avg  \\\n",
       "0            -0.031053             0.408866        0.034087       -0.103244   \n",
       "1            -0.453963            -0.622354       -0.113153       -0.288215   \n",
       "2            -0.200429            -0.281750       -0.014925       -0.193448   \n",
       "3             2.968209             2.870266        0.635758        0.383892   \n",
       "4            -0.200429            -0.267213       -0.063936       -0.311025   \n",
       "\n",
       "     Gender       Age   Smoking  \n",
       "0 -1.250641  0.195883  0.373718  \n",
       "1 -1.250641 -0.699013 -1.121153  \n",
       "2 -1.250641 -0.400714 -1.121153  \n",
       "3  0.799590  1.289644  0.373718  \n",
       "4  0.799590 -1.494475 -1.121153  "
      ]
     },
     "execution_count": 196,
     "metadata": {},
     "output_type": "execute_result"
    }
   ],
   "source": [
    "smoter = SMOTE()\n",
    "X_smoted, y_smoted = smoter.fit_resample(X_train,y_train)\n",
    "X_smoted.head()"
   ]
  },
  {
   "cell_type": "markdown",
   "metadata": {},
   "source": [
    "# Modelling"
   ]
  },
  {
   "cell_type": "code",
   "execution_count": 197,
   "metadata": {},
   "outputs": [],
   "source": [
    "# Helper Functions\n",
    "def data_modelling(model):\n",
    "    model_name = model.__class__.__name__\n",
    "    # Print the name of the model\n",
    "    print(\"Model Name:\", model_name)\n",
    "\n",
    "    print('Cleaned Orignal Data:')\n",
    "    train_model(model,X_train, X_test, y_train, y_test)\n",
    "    print('Cleaned Smoted Data:')\n",
    "    train_model(model,X_smoted, X_test, y_smoted, y_test)\n",
    "\n",
    "def train_model(model,X_train, X_test, y_train, y_test):\n",
    "    model.fit(X_train,y_train)\n",
    "    y_pred = model.predict(X_test)\n",
    "    evaluate(model,y_test,y_pred)\n",
    "\n",
    "def evaluate(model,y_test,y_pred):\n",
    "    print(classification_report(y_test,y_pred))"
   ]
  },
  {
   "cell_type": "markdown",
   "metadata": {},
   "source": [
    "# Logistic Regression"
   ]
  },
  {
   "cell_type": "code",
   "execution_count": 198,
   "metadata": {},
   "outputs": [
    {
     "name": "stdout",
     "output_type": "stream",
     "text": [
      "Model Name: LogisticRegression\n",
      "Cleaned Orignal Data:\n",
      "              precision    recall  f1-score   support\n",
      "\n",
      "           0       1.00      0.33      0.50         3\n",
      "           1       0.86      0.92      0.89        13\n",
      "           2       0.71      0.83      0.77        12\n",
      "           3       1.00      0.50      0.67         2\n",
      "\n",
      "    accuracy                           0.80        30\n",
      "   macro avg       0.89      0.65      0.71        30\n",
      "weighted avg       0.82      0.80      0.79        30\n",
      "\n",
      "Cleaned Smoted Data:\n",
      "              precision    recall  f1-score   support\n",
      "\n",
      "           0       0.40      0.67      0.50         3\n",
      "           1       0.92      0.85      0.88        13\n",
      "           2       0.86      0.50      0.63        12\n",
      "           3       0.33      1.00      0.50         2\n",
      "\n",
      "    accuracy                           0.70        30\n",
      "   macro avg       0.63      0.75      0.63        30\n",
      "weighted avg       0.80      0.70      0.72        30\n",
      "\n"
     ]
    }
   ],
   "source": [
    "from sklearn.linear_model import LogisticRegression\n",
    "data_modelling(LogisticRegression(C=10, penalty= 'l2', solver='newton-cg'))"
   ]
  },
  {
   "cell_type": "markdown",
   "metadata": {},
   "source": [
    "# SVC"
   ]
  },
  {
   "cell_type": "code",
   "execution_count": 199,
   "metadata": {},
   "outputs": [
    {
     "name": "stdout",
     "output_type": "stream",
     "text": [
      "Model Name: SVC\n",
      "Cleaned Orignal Data:\n",
      "              precision    recall  f1-score   support\n",
      "\n",
      "           0       0.00      0.00      0.00         3\n",
      "           1       0.86      0.92      0.89        13\n",
      "           2       0.62      0.83      0.71        12\n",
      "           3       0.00      0.00      0.00         2\n",
      "\n",
      "    accuracy                           0.73        30\n",
      "   macro avg       0.37      0.44      0.40        30\n",
      "weighted avg       0.62      0.73      0.67        30\n",
      "\n",
      "Cleaned Smoted Data:\n",
      "              precision    recall  f1-score   support\n",
      "\n",
      "           0       0.25      0.67      0.36         3\n",
      "           1       0.91      0.77      0.83        13\n",
      "           2       1.00      0.42      0.59        12\n",
      "           3       0.33      1.00      0.50         2\n",
      "\n",
      "    accuracy                           0.63        30\n",
      "   macro avg       0.62      0.71      0.57        30\n",
      "weighted avg       0.84      0.63      0.67        30\n",
      "\n"
     ]
    }
   ],
   "source": [
    "from sklearn.svm import SVC\n",
    "data_modelling(SVC(C = 1 ,gamma = 'scale', kernel='rbf'))"
   ]
  },
  {
   "cell_type": "markdown",
   "metadata": {},
   "source": [
    "# KNN"
   ]
  },
  {
   "cell_type": "code",
   "execution_count": 200,
   "metadata": {},
   "outputs": [
    {
     "name": "stdout",
     "output_type": "stream",
     "text": [
      "Model Name: KNeighborsClassifier\n",
      "Cleaned Orignal Data:\n",
      "              precision    recall  f1-score   support\n",
      "\n",
      "           0       0.00      0.00      0.00         3\n",
      "           1       0.80      0.92      0.86        13\n",
      "           2       0.69      0.75      0.72        12\n",
      "           3       1.00      1.00      1.00         2\n",
      "\n",
      "    accuracy                           0.77        30\n",
      "   macro avg       0.62      0.67      0.64        30\n",
      "weighted avg       0.69      0.77      0.73        30\n",
      "\n",
      "Cleaned Smoted Data:\n",
      "              precision    recall  f1-score   support\n",
      "\n",
      "           0       0.22      0.67      0.33         3\n",
      "           1       0.77      0.77      0.77        13\n",
      "           2       1.00      0.17      0.29        12\n",
      "           3       0.17      0.50      0.25         2\n",
      "\n",
      "    accuracy                           0.50        30\n",
      "   macro avg       0.54      0.53      0.41        30\n",
      "weighted avg       0.77      0.50      0.50        30\n",
      "\n"
     ]
    }
   ],
   "source": [
    "from sklearn.neighbors import KNeighborsClassifier\n",
    "# define models and parameters\n",
    "model = KNeighborsClassifier()\n",
    "data_modelling(KNeighborsClassifier(metric='manhattan',n_neighbors=17,weights='distance'))\n",
    "# {'metric': 'manhattan', 'n_neighbors': 17, 'weights': 'distance'}"
   ]
  },
  {
   "cell_type": "markdown",
   "metadata": {},
   "source": [
    "# Bagged Dtree"
   ]
  },
  {
   "cell_type": "code",
   "execution_count": 201,
   "metadata": {},
   "outputs": [
    {
     "name": "stdout",
     "output_type": "stream",
     "text": [
      "Model Name: BaggingClassifier\n",
      "Cleaned Orignal Data:\n"
     ]
    },
    {
     "name": "stdout",
     "output_type": "stream",
     "text": [
      "              precision    recall  f1-score   support\n",
      "\n",
      "           0       1.00      0.33      0.50         3\n",
      "           1       1.00      0.92      0.96        13\n",
      "           2       0.79      0.92      0.85        12\n",
      "           3       0.33      0.50      0.40         2\n",
      "\n",
      "    accuracy                           0.83        30\n",
      "   macro avg       0.78      0.67      0.68        30\n",
      "weighted avg       0.87      0.83      0.83        30\n",
      "\n",
      "Cleaned Smoted Data:\n",
      "              precision    recall  f1-score   support\n",
      "\n",
      "           0       0.20      0.33      0.25         3\n",
      "           1       1.00      0.85      0.92        13\n",
      "           2       0.90      0.75      0.82        12\n",
      "           3       0.25      0.50      0.33         2\n",
      "\n",
      "    accuracy                           0.73        30\n",
      "   macro avg       0.59      0.61      0.58        30\n",
      "weighted avg       0.83      0.73      0.77        30\n",
      "\n"
     ]
    }
   ],
   "source": [
    "from sklearn.ensemble import BaggingClassifier\n",
    "data_modelling(BaggingClassifier(n_estimators=1000))"
   ]
  },
  {
   "cell_type": "markdown",
   "metadata": {},
   "source": [
    "# Random Forest"
   ]
  },
  {
   "cell_type": "code",
   "execution_count": 202,
   "metadata": {},
   "outputs": [
    {
     "name": "stdout",
     "output_type": "stream",
     "text": [
      "Model Name: RandomForestClassifier\n",
      "Cleaned Orignal Data:\n",
      "              precision    recall  f1-score   support\n",
      "\n",
      "           0       0.50      0.33      0.40         3\n",
      "           1       1.00      0.92      0.96        13\n",
      "           2       0.85      0.92      0.88        12\n",
      "           3       0.33      0.50      0.40         2\n",
      "\n",
      "    accuracy                           0.83        30\n",
      "   macro avg       0.67      0.67      0.66        30\n",
      "weighted avg       0.84      0.83      0.83        30\n",
      "\n",
      "Cleaned Smoted Data:\n",
      "              precision    recall  f1-score   support\n",
      "\n",
      "           0       0.33      0.33      0.33         3\n",
      "           1       1.00      0.85      0.92        13\n",
      "           2       0.91      0.83      0.87        12\n",
      "           3       0.40      1.00      0.57         2\n",
      "\n",
      "    accuracy                           0.80        30\n",
      "   macro avg       0.66      0.75      0.67        30\n",
      "weighted avg       0.86      0.80      0.82        30\n",
      "\n"
     ]
    }
   ],
   "source": [
    "from sklearn.ensemble import RandomForestClassifier\n",
    "data_modelling(RandomForestClassifier(max_features='sqrt',n_estimators=100))"
   ]
  },
  {
   "cell_type": "markdown",
   "metadata": {},
   "source": [
    "# Ridge Classifier"
   ]
  },
  {
   "cell_type": "code",
   "execution_count": 203,
   "metadata": {},
   "outputs": [
    {
     "name": "stdout",
     "output_type": "stream",
     "text": [
      "Model Name: RidgeClassifier\n",
      "Cleaned Orignal Data:\n",
      "              precision    recall  f1-score   support\n",
      "\n",
      "           0       0.00      0.00      0.00         3\n",
      "           1       0.75      0.92      0.83        13\n",
      "           2       0.71      0.83      0.77        12\n",
      "           3       0.00      0.00      0.00         2\n",
      "\n",
      "    accuracy                           0.73        30\n",
      "   macro avg       0.37      0.44      0.40        30\n",
      "weighted avg       0.61      0.73      0.67        30\n",
      "\n",
      "Cleaned Smoted Data:\n",
      "              precision    recall  f1-score   support\n",
      "\n",
      "           0       0.40      0.67      0.50         3\n",
      "           1       0.73      0.85      0.79        13\n",
      "           2       1.00      0.42      0.59        12\n",
      "           3       0.40      1.00      0.57         2\n",
      "\n",
      "    accuracy                           0.67        30\n",
      "   macro avg       0.63      0.73      0.61        30\n",
      "weighted avg       0.78      0.67      0.66        30\n",
      "\n"
     ]
    }
   ],
   "source": [
    "from sklearn.linear_model import RidgeClassifier\n",
    "data_modelling(RidgeClassifier(alpha=0.6))"
   ]
  }
 ],
 "metadata": {
  "kernelspec": {
   "display_name": "base",
   "language": "python",
   "name": "python3"
  },
  "language_info": {
   "codemirror_mode": {
    "name": "ipython",
    "version": 3
   },
   "file_extension": ".py",
   "mimetype": "text/x-python",
   "name": "python",
   "nbconvert_exporter": "python",
   "pygments_lexer": "ipython3",
   "version": "3.10.9"
  }
 },
 "nbformat": 4,
 "nbformat_minor": 2
}
