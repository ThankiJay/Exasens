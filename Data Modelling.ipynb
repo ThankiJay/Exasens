{
 "cells": [
  {
   "cell_type": "markdown",
   "metadata": {},
   "source": [
    "# Importing the libraries"
   ]
  },
  {
   "cell_type": "code",
   "execution_count": 126,
   "metadata": {},
   "outputs": [],
   "source": [
    "import pandas as pd\n",
    "import matplotlib.pyplot as plt\n",
    "import seaborn as sns\n",
    "from sklearn.model_selection import train_test_split\n",
    "from sklearn.preprocessing import StandardScaler\n",
    "from sklearn.preprocessing import LabelEncoder\n",
    "from sklearn.metrics import classification_report,accuracy_score,precision_score,recall_score\n",
    "from yellowbrick import ROCAUC\n",
    "from imblearn.over_sampling import SMOTE"
   ]
  },
  {
   "cell_type": "markdown",
   "metadata": {},
   "source": [
    "# Importing the data "
   ]
  },
  {
   "cell_type": "code",
   "execution_count": 127,
   "metadata": {},
   "outputs": [
    {
     "data": {
      "text/html": [
       "<div>\n",
       "<style scoped>\n",
       "    .dataframe tbody tr th:only-of-type {\n",
       "        vertical-align: middle;\n",
       "    }\n",
       "\n",
       "    .dataframe tbody tr th {\n",
       "        vertical-align: top;\n",
       "    }\n",
       "\n",
       "    .dataframe thead th {\n",
       "        text-align: right;\n",
       "    }\n",
       "</style>\n",
       "<table border=\"1\" class=\"dataframe\">\n",
       "  <thead>\n",
       "    <tr style=\"text-align: right;\">\n",
       "      <th></th>\n",
       "      <th>Imaginary Part: Min</th>\n",
       "      <th>Imaginary Part: Avg</th>\n",
       "      <th>Real Part: Min</th>\n",
       "      <th>Real Part: Avg</th>\n",
       "      <th>Gender</th>\n",
       "      <th>Age</th>\n",
       "      <th>Smoking</th>\n",
       "      <th>Diagnosis</th>\n",
       "    </tr>\n",
       "  </thead>\n",
       "  <tbody>\n",
       "    <tr>\n",
       "      <th>0</th>\n",
       "      <td>-320.61</td>\n",
       "      <td>-300.563531</td>\n",
       "      <td>-495.26</td>\n",
       "      <td>-464.171991</td>\n",
       "      <td>1.0</td>\n",
       "      <td>77.0</td>\n",
       "      <td>2.0</td>\n",
       "      <td>1</td>\n",
       "    </tr>\n",
       "    <tr>\n",
       "      <th>1</th>\n",
       "      <td>-325.39</td>\n",
       "      <td>-314.750360</td>\n",
       "      <td>-473.73</td>\n",
       "      <td>-469.263140</td>\n",
       "      <td>0.0</td>\n",
       "      <td>72.0</td>\n",
       "      <td>2.0</td>\n",
       "      <td>1</td>\n",
       "    </tr>\n",
       "    <tr>\n",
       "      <th>2</th>\n",
       "      <td>-323.00</td>\n",
       "      <td>-317.436056</td>\n",
       "      <td>-476.12</td>\n",
       "      <td>-471.897667</td>\n",
       "      <td>1.0</td>\n",
       "      <td>73.0</td>\n",
       "      <td>3.0</td>\n",
       "      <td>1</td>\n",
       "    </tr>\n",
       "    <tr>\n",
       "      <th>3</th>\n",
       "      <td>-327.78</td>\n",
       "      <td>-317.399670</td>\n",
       "      <td>-473.73</td>\n",
       "      <td>-468.856388</td>\n",
       "      <td>1.0</td>\n",
       "      <td>76.0</td>\n",
       "      <td>2.0</td>\n",
       "      <td>1</td>\n",
       "    </tr>\n",
       "    <tr>\n",
       "      <th>4</th>\n",
       "      <td>-325.39</td>\n",
       "      <td>-316.155785</td>\n",
       "      <td>-478.52</td>\n",
       "      <td>-472.869783</td>\n",
       "      <td>0.0</td>\n",
       "      <td>65.0</td>\n",
       "      <td>2.0</td>\n",
       "      <td>1</td>\n",
       "    </tr>\n",
       "  </tbody>\n",
       "</table>\n",
       "</div>"
      ],
      "text/plain": [
       "   Imaginary Part: Min  Imaginary Part: Avg  Real Part: Min  Real Part: Avg  \\\n",
       "0              -320.61          -300.563531         -495.26     -464.171991   \n",
       "1              -325.39          -314.750360         -473.73     -469.263140   \n",
       "2              -323.00          -317.436056         -476.12     -471.897667   \n",
       "3              -327.78          -317.399670         -473.73     -468.856388   \n",
       "4              -325.39          -316.155785         -478.52     -472.869783   \n",
       "\n",
       "   Gender   Age  Smoking  Diagnosis  \n",
       "0     1.0  77.0      2.0          1  \n",
       "1     0.0  72.0      2.0          1  \n",
       "2     1.0  73.0      3.0          1  \n",
       "3     1.0  76.0      2.0          1  \n",
       "4     0.0  65.0      2.0          1  "
      ]
     },
     "execution_count": 127,
     "metadata": {},
     "output_type": "execute_result"
    }
   ],
   "source": [
    "data = pd.read_csv('Data/cleaned_data.csv')\n",
    "data = data[['Imaginary Part: Min', 'Imaginary Part: Avg', 'Real Part: Min', 'Real Part: Avg', 'Gender', 'Age', 'Smoking','Diagnosis']]\n",
    "data.head()"
   ]
  },
  {
   "cell_type": "markdown",
   "metadata": {},
   "source": [
    "# Feature Scaling"
   ]
  },
  {
   "cell_type": "code",
   "execution_count": 128,
   "metadata": {},
   "outputs": [
    {
     "data": {
      "text/html": [
       "<div>\n",
       "<style scoped>\n",
       "    .dataframe tbody tr th:only-of-type {\n",
       "        vertical-align: middle;\n",
       "    }\n",
       "\n",
       "    .dataframe tbody tr th {\n",
       "        vertical-align: top;\n",
       "    }\n",
       "\n",
       "    .dataframe thead th {\n",
       "        text-align: right;\n",
       "    }\n",
       "</style>\n",
       "<table border=\"1\" class=\"dataframe\">\n",
       "  <thead>\n",
       "    <tr style=\"text-align: right;\">\n",
       "      <th></th>\n",
       "      <th>Imaginary Part: Min</th>\n",
       "      <th>Imaginary Part: Avg</th>\n",
       "      <th>Real Part: Min</th>\n",
       "      <th>Real Part: Avg</th>\n",
       "      <th>Gender</th>\n",
       "      <th>Age</th>\n",
       "      <th>Smoking</th>\n",
       "    </tr>\n",
       "  </thead>\n",
       "  <tbody>\n",
       "    <tr>\n",
       "      <th>0</th>\n",
       "      <td>-0.200429</td>\n",
       "      <td>0.164022</td>\n",
       "      <td>-0.456438</td>\n",
       "      <td>-0.125737</td>\n",
       "      <td>0.799590</td>\n",
       "      <td>1.239927</td>\n",
       "      <td>0.373718</td>\n",
       "    </tr>\n",
       "    <tr>\n",
       "      <th>1</th>\n",
       "      <td>-0.369452</td>\n",
       "      <td>-0.387892</td>\n",
       "      <td>-0.014925</td>\n",
       "      <td>-0.242758</td>\n",
       "      <td>-1.250641</td>\n",
       "      <td>0.991345</td>\n",
       "      <td>0.373718</td>\n",
       "    </tr>\n",
       "    <tr>\n",
       "      <th>2</th>\n",
       "      <td>-0.284941</td>\n",
       "      <td>-0.492374</td>\n",
       "      <td>-0.063936</td>\n",
       "      <td>-0.303313</td>\n",
       "      <td>0.799590</td>\n",
       "      <td>1.041062</td>\n",
       "      <td>1.868588</td>\n",
       "    </tr>\n",
       "    <tr>\n",
       "      <th>3</th>\n",
       "      <td>-0.453963</td>\n",
       "      <td>-0.490958</td>\n",
       "      <td>-0.014925</td>\n",
       "      <td>-0.233409</td>\n",
       "      <td>0.799590</td>\n",
       "      <td>1.190211</td>\n",
       "      <td>0.373718</td>\n",
       "    </tr>\n",
       "    <tr>\n",
       "      <th>4</th>\n",
       "      <td>-0.369452</td>\n",
       "      <td>-0.442567</td>\n",
       "      <td>-0.113153</td>\n",
       "      <td>-0.325658</td>\n",
       "      <td>-1.250641</td>\n",
       "      <td>0.643330</td>\n",
       "      <td>0.373718</td>\n",
       "    </tr>\n",
       "  </tbody>\n",
       "</table>\n",
       "</div>"
      ],
      "text/plain": [
       "   Imaginary Part: Min  Imaginary Part: Avg  Real Part: Min  Real Part: Avg  \\\n",
       "0            -0.200429             0.164022       -0.456438       -0.125737   \n",
       "1            -0.369452            -0.387892       -0.014925       -0.242758   \n",
       "2            -0.284941            -0.492374       -0.063936       -0.303313   \n",
       "3            -0.453963            -0.490958       -0.014925       -0.233409   \n",
       "4            -0.369452            -0.442567       -0.113153       -0.325658   \n",
       "\n",
       "     Gender       Age   Smoking  \n",
       "0  0.799590  1.239927  0.373718  \n",
       "1 -1.250641  0.991345  0.373718  \n",
       "2  0.799590  1.041062  1.868588  \n",
       "3  0.799590  1.190211  0.373718  \n",
       "4 -1.250641  0.643330  0.373718  "
      ]
     },
     "execution_count": 128,
     "metadata": {},
     "output_type": "execute_result"
    }
   ],
   "source": [
    "features = ['Imaginary Part: Min', 'Imaginary Part: Avg', 'Real Part: Min', 'Real Part: Avg', 'Gender', 'Age', 'Smoking']\n",
    "target = 'Diagnosis'\n",
    "X = data[features]\n",
    "y = data[target]\n",
    "scaler = StandardScaler()\n",
    "X_scaled = scaler.fit_transform(X)\n",
    "X = pd.DataFrame(X_scaled, columns=features)\n",
    "X.head()\n"
   ]
  },
  {
   "cell_type": "markdown",
   "metadata": {},
   "source": [
    "# Splling the data"
   ]
  },
  {
   "cell_type": "code",
   "execution_count": 129,
   "metadata": {},
   "outputs": [],
   "source": [
    "X_train, X_test, y_train, y_test = train_test_split(X, y, test_size=0.2, random_state=42)"
   ]
  },
  {
   "cell_type": "markdown",
   "metadata": {},
   "source": [
    "# Balancing the classes using smote\n"
   ]
  },
  {
   "cell_type": "code",
   "execution_count": 130,
   "metadata": {},
   "outputs": [
    {
     "data": {
      "text/html": [
       "<div>\n",
       "<style scoped>\n",
       "    .dataframe tbody tr th:only-of-type {\n",
       "        vertical-align: middle;\n",
       "    }\n",
       "\n",
       "    .dataframe tbody tr th {\n",
       "        vertical-align: top;\n",
       "    }\n",
       "\n",
       "    .dataframe thead th {\n",
       "        text-align: right;\n",
       "    }\n",
       "</style>\n",
       "<table border=\"1\" class=\"dataframe\">\n",
       "  <thead>\n",
       "    <tr style=\"text-align: right;\">\n",
       "      <th></th>\n",
       "      <th>Imaginary Part: Min</th>\n",
       "      <th>Imaginary Part: Avg</th>\n",
       "      <th>Real Part: Min</th>\n",
       "      <th>Real Part: Avg</th>\n",
       "      <th>Gender</th>\n",
       "      <th>Age</th>\n",
       "      <th>Smoking</th>\n",
       "    </tr>\n",
       "  </thead>\n",
       "  <tbody>\n",
       "    <tr>\n",
       "      <th>0</th>\n",
       "      <td>2.862128</td>\n",
       "      <td>2.753557</td>\n",
       "      <td>0.574237</td>\n",
       "      <td>0.314936</td>\n",
       "      <td>-1.250641</td>\n",
       "      <td>-1.295610</td>\n",
       "      <td>-1.121153</td>\n",
       "    </tr>\n",
       "    <tr>\n",
       "      <th>1</th>\n",
       "      <td>-0.200429</td>\n",
       "      <td>-0.275419</td>\n",
       "      <td>-0.014925</td>\n",
       "      <td>-0.280171</td>\n",
       "      <td>-1.250641</td>\n",
       "      <td>-0.599580</td>\n",
       "      <td>0.373718</td>\n",
       "    </tr>\n",
       "    <tr>\n",
       "      <th>2</th>\n",
       "      <td>3.074290</td>\n",
       "      <td>2.986976</td>\n",
       "      <td>0.635758</td>\n",
       "      <td>0.383892</td>\n",
       "      <td>0.799590</td>\n",
       "      <td>1.637658</td>\n",
       "      <td>0.373718</td>\n",
       "    </tr>\n",
       "    <tr>\n",
       "      <th>3</th>\n",
       "      <td>-0.200429</td>\n",
       "      <td>-0.044047</td>\n",
       "      <td>0.083098</td>\n",
       "      <td>-0.154806</td>\n",
       "      <td>-1.250641</td>\n",
       "      <td>-0.549863</td>\n",
       "      <td>0.373718</td>\n",
       "    </tr>\n",
       "    <tr>\n",
       "      <th>4</th>\n",
       "      <td>-0.538828</td>\n",
       "      <td>-0.568797</td>\n",
       "      <td>-0.063936</td>\n",
       "      <td>-0.240516</td>\n",
       "      <td>0.799590</td>\n",
       "      <td>-0.002983</td>\n",
       "      <td>1.868588</td>\n",
       "    </tr>\n",
       "  </tbody>\n",
       "</table>\n",
       "</div>"
      ],
      "text/plain": [
       "   Imaginary Part: Min  Imaginary Part: Avg  Real Part: Min  Real Part: Avg  \\\n",
       "0             2.862128             2.753557        0.574237        0.314936   \n",
       "1            -0.200429            -0.275419       -0.014925       -0.280171   \n",
       "2             3.074290             2.986976        0.635758        0.383892   \n",
       "3            -0.200429            -0.044047        0.083098       -0.154806   \n",
       "4            -0.538828            -0.568797       -0.063936       -0.240516   \n",
       "\n",
       "     Gender       Age   Smoking  \n",
       "0 -1.250641 -1.295610 -1.121153  \n",
       "1 -1.250641 -0.599580  0.373718  \n",
       "2  0.799590  1.637658  0.373718  \n",
       "3 -1.250641 -0.549863  0.373718  \n",
       "4  0.799590 -0.002983  1.868588  "
      ]
     },
     "execution_count": 130,
     "metadata": {},
     "output_type": "execute_result"
    }
   ],
   "source": [
    "smoter = SMOTE()\n",
    "X_smoted, y_smoted = smoter.fit_resample(X_train,y_train)\n",
    "X_smoted.head()"
   ]
  },
  {
   "cell_type": "markdown",
   "metadata": {},
   "source": [
    "# Modelling"
   ]
  },
  {
   "cell_type": "code",
   "execution_count": 131,
   "metadata": {},
   "outputs": [],
   "source": [
    "def data_modelling(model):\n",
    "    print('Cleaned Orignal Data:')\n",
    "    train_model(model,X_train, X_test, y_train, y_test)\n",
    "    print('Cleaned Smoted Data:')\n",
    "    train_model(model,X_smoted, X_test, y_smoted, y_test)\n",
    "\n",
    "def train_model(model,X_train, X_test, y_train, y_test):\n",
    "    model.fit(X_train,y_train)\n",
    "    y_pred = model.predict(X_test)\n",
    "    evaluate(model,y_test,y_pred)\n",
    "\n",
    "def evaluate(model,y_test,y_pred):\n",
    "    print(classification_report(y_test,y_pred))"
   ]
  },
  {
   "cell_type": "markdown",
   "metadata": {},
   "source": [
    "# Logistic Regression"
   ]
  },
  {
   "cell_type": "code",
   "execution_count": 136,
   "metadata": {},
   "outputs": [
    {
     "name": "stdout",
     "output_type": "stream",
     "text": [
      "Cleaned Orignal Data:\n",
      "              precision    recall  f1-score   support\n",
      "\n",
      "           0       0.00      0.00      0.00         2\n",
      "           1       0.90      0.90      0.90        10\n",
      "           2       0.62      0.71      0.67         7\n",
      "           3       0.50      1.00      0.67         1\n",
      "\n",
      "    accuracy                           0.75        20\n",
      "   macro avg       0.51      0.65      0.56        20\n",
      "weighted avg       0.69      0.75      0.72        20\n",
      "\n",
      "Cleaned Smoted Data:\n",
      "              precision    recall  f1-score   support\n",
      "\n",
      "           0       0.33      0.50      0.40         2\n",
      "           1       0.89      0.80      0.84        10\n",
      "           2       0.75      0.43      0.55         7\n",
      "           3       0.25      1.00      0.40         1\n",
      "\n",
      "    accuracy                           0.65        20\n",
      "   macro avg       0.56      0.68      0.55        20\n",
      "weighted avg       0.75      0.65      0.67        20\n",
      "\n"
     ]
    },
    {
     "name": "stderr",
     "output_type": "stream",
     "text": [
      "c:\\ProgramData\\anaconda3\\lib\\site-packages\\sklearn\\metrics\\_classification.py:1344: UndefinedMetricWarning: Precision and F-score are ill-defined and being set to 0.0 in labels with no predicted samples. Use `zero_division` parameter to control this behavior.\n",
      "  _warn_prf(average, modifier, msg_start, len(result))\n",
      "c:\\ProgramData\\anaconda3\\lib\\site-packages\\sklearn\\metrics\\_classification.py:1344: UndefinedMetricWarning: Precision and F-score are ill-defined and being set to 0.0 in labels with no predicted samples. Use `zero_division` parameter to control this behavior.\n",
      "  _warn_prf(average, modifier, msg_start, len(result))\n",
      "c:\\ProgramData\\anaconda3\\lib\\site-packages\\sklearn\\metrics\\_classification.py:1344: UndefinedMetricWarning: Precision and F-score are ill-defined and being set to 0.0 in labels with no predicted samples. Use `zero_division` parameter to control this behavior.\n",
      "  _warn_prf(average, modifier, msg_start, len(result))\n"
     ]
    }
   ],
   "source": [
    "from sklearn.linear_model import LogisticRegression\n",
    "data_modelling(LogisticRegression(C=10, penalty= 'l2', solver='newton-cg'))"
   ]
  },
  {
   "cell_type": "code",
   "execution_count": 135,
   "metadata": {},
   "outputs": [
    {
     "name": "stdout",
     "output_type": "stream",
     "text": [
      "Best: 0.716667 using {'C': 10, 'penalty': 'l2', 'solver': 'newton-cg'}\n",
      "0.716667 (0.100277) with: {'C': 100, 'penalty': 'l2', 'solver': 'newton-cg'}\n",
      "0.716667 (0.100277) with: {'C': 100, 'penalty': 'l2', 'solver': 'lbfgs'}\n",
      "0.710000 (0.110604) with: {'C': 100, 'penalty': 'l2', 'solver': 'liblinear'}\n",
      "0.716667 (0.118556) with: {'C': 10, 'penalty': 'l2', 'solver': 'newton-cg'}\n",
      "0.716667 (0.118556) with: {'C': 10, 'penalty': 'l2', 'solver': 'lbfgs'}\n",
      "0.686667 (0.099107) with: {'C': 10, 'penalty': 'l2', 'solver': 'liblinear'}\n",
      "0.683333 (0.109798) with: {'C': 1.0, 'penalty': 'l2', 'solver': 'newton-cg'}\n",
      "0.683333 (0.109798) with: {'C': 1.0, 'penalty': 'l2', 'solver': 'lbfgs'}\n",
      "0.673333 (0.099778) with: {'C': 1.0, 'penalty': 'l2', 'solver': 'liblinear'}\n",
      "0.683333 (0.077817) with: {'C': 0.1, 'penalty': 'l2', 'solver': 'newton-cg'}\n",
      "0.683333 (0.077817) with: {'C': 0.1, 'penalty': 'l2', 'solver': 'lbfgs'}\n",
      "0.683333 (0.077817) with: {'C': 0.1, 'penalty': 'l2', 'solver': 'liblinear'}\n",
      "0.663333 (0.091226) with: {'C': 0.01, 'penalty': 'l2', 'solver': 'newton-cg'}\n",
      "0.663333 (0.091226) with: {'C': 0.01, 'penalty': 'l2', 'solver': 'lbfgs'}\n",
      "0.663333 (0.091226) with: {'C': 0.01, 'penalty': 'l2', 'solver': 'liblinear'}\n"
     ]
    }
   ],
   "source": [
    "from sklearn.datasets import make_blobs\n",
    "from sklearn.model_selection import RepeatedStratifiedKFold\n",
    "from sklearn.model_selection import GridSearchCV\n",
    "from sklearn.linear_model import LogisticRegression\n",
    "# define dataset\n",
    "# define models and parameters\n",
    "model = LogisticRegression()\n",
    "solvers = ['newton-cg', 'lbfgs', 'liblinear']\n",
    "penalty = ['l2']\n",
    "c_values = [100, 10, 1.0, 0.1, 0.01]\n",
    "# define grid search\n",
    "grid = dict(solver=solvers,penalty=penalty,C=c_values)\n",
    "cv = RepeatedStratifiedKFold(n_splits=10, n_repeats=3, random_state=1)\n",
    "grid_search = GridSearchCV(estimator=model, param_grid=grid, n_jobs=-1, cv=cv, scoring='accuracy',error_score=0)\n",
    "grid_result = grid_search.fit(X, y)\n",
    "# summarize results\n",
    "print(\"Best: %f using %s\" % (grid_result.best_score_, grid_result.best_params_))\n",
    "means = grid_result.cv_results_['mean_test_score']\n",
    "stds = grid_result.cv_results_['std_test_score']\n",
    "params = grid_result.cv_results_['params']\n",
    "for mean, stdev, param in zip(means, stds, params):\n",
    "    print(\"%f (%f) with: %r\" % (mean, stdev, param))"
   ]
  },
  {
   "cell_type": "markdown",
   "metadata": {},
   "source": [
    "# SVC"
   ]
  },
  {
   "cell_type": "code",
   "execution_count": 138,
   "metadata": {},
   "outputs": [
    {
     "name": "stdout",
     "output_type": "stream",
     "text": [
      "Cleaned Orignal Data:\n",
      "              precision    recall  f1-score   support\n",
      "\n",
      "           0       0.00      0.00      0.00         2\n",
      "           1       1.00      0.90      0.95        10\n",
      "           2       0.64      1.00      0.78         7\n",
      "           3       0.00      0.00      0.00         1\n",
      "\n",
      "    accuracy                           0.80        20\n",
      "   macro avg       0.41      0.47      0.43        20\n",
      "weighted avg       0.72      0.80      0.75        20\n",
      "\n",
      "Cleaned Smoted Data:\n",
      "              precision    recall  f1-score   support\n",
      "\n",
      "           0       0.00      0.00      0.00         2\n",
      "           1       0.88      0.70      0.78        10\n",
      "           2       1.00      0.43      0.60         7\n",
      "           3       0.17      1.00      0.29         1\n",
      "\n",
      "    accuracy                           0.55        20\n",
      "   macro avg       0.51      0.53      0.42        20\n",
      "weighted avg       0.80      0.55      0.61        20\n",
      "\n"
     ]
    },
    {
     "name": "stderr",
     "output_type": "stream",
     "text": [
      "c:\\ProgramData\\anaconda3\\lib\\site-packages\\sklearn\\metrics\\_classification.py:1344: UndefinedMetricWarning: Precision and F-score are ill-defined and being set to 0.0 in labels with no predicted samples. Use `zero_division` parameter to control this behavior.\n",
      "  _warn_prf(average, modifier, msg_start, len(result))\n",
      "c:\\ProgramData\\anaconda3\\lib\\site-packages\\sklearn\\metrics\\_classification.py:1344: UndefinedMetricWarning: Precision and F-score are ill-defined and being set to 0.0 in labels with no predicted samples. Use `zero_division` parameter to control this behavior.\n",
      "  _warn_prf(average, modifier, msg_start, len(result))\n",
      "c:\\ProgramData\\anaconda3\\lib\\site-packages\\sklearn\\metrics\\_classification.py:1344: UndefinedMetricWarning: Precision and F-score are ill-defined and being set to 0.0 in labels with no predicted samples. Use `zero_division` parameter to control this behavior.\n",
      "  _warn_prf(average, modifier, msg_start, len(result))\n"
     ]
    }
   ],
   "source": [
    "from sklearn.svm import SVC\n",
    "data_modelling(SVC(C = 1 ,gamma = 'scale', kernel='rbf'))"
   ]
  },
  {
   "cell_type": "code",
   "execution_count": 137,
   "metadata": {},
   "outputs": [
    {
     "name": "stdout",
     "output_type": "stream",
     "text": [
      "Best: 0.756667 using {'C': 1.0, 'gamma': 'scale', 'kernel': 'rbf'}\n",
      "0.666667 (0.113529) with: {'C': 50, 'gamma': 'scale', 'kernel': 'poly'}\n",
      "0.703333 (0.098263) with: {'C': 50, 'gamma': 'scale', 'kernel': 'rbf'}\n",
      "0.586667 (0.108730) with: {'C': 50, 'gamma': 'scale', 'kernel': 'sigmoid'}\n",
      "0.666667 (0.104350) with: {'C': 10, 'gamma': 'scale', 'kernel': 'poly'}\n",
      "0.673333 (0.103064) with: {'C': 10, 'gamma': 'scale', 'kernel': 'rbf'}\n",
      "0.610000 (0.101160) with: {'C': 10, 'gamma': 'scale', 'kernel': 'sigmoid'}\n",
      "0.650000 (0.080623) with: {'C': 1.0, 'gamma': 'scale', 'kernel': 'poly'}\n",
      "0.756667 (0.071570) with: {'C': 1.0, 'gamma': 'scale', 'kernel': 'rbf'}\n",
      "0.690000 (0.090738) with: {'C': 1.0, 'gamma': 'scale', 'kernel': 'sigmoid'}\n",
      "0.433333 (0.090676) with: {'C': 0.1, 'gamma': 'scale', 'kernel': 'poly'}\n",
      "0.643333 (0.111604) with: {'C': 0.1, 'gamma': 'scale', 'kernel': 'rbf'}\n",
      "0.676667 (0.076085) with: {'C': 0.1, 'gamma': 'scale', 'kernel': 'sigmoid'}\n",
      "0.390000 (0.047258) with: {'C': 0.01, 'gamma': 'scale', 'kernel': 'poly'}\n",
      "0.640000 (0.111355) with: {'C': 0.01, 'gamma': 'scale', 'kernel': 'rbf'}\n",
      "0.666667 (0.097753) with: {'C': 0.01, 'gamma': 'scale', 'kernel': 'sigmoid'}\n"
     ]
    }
   ],
   "source": [
    "# example of grid searching key hyperparametres for SVC\n",
    "from sklearn.datasets import make_blobs\n",
    "from sklearn.model_selection import RepeatedStratifiedKFold\n",
    "from sklearn.model_selection import GridSearchCV\n",
    "from sklearn.svm import SVC\n",
    "# define dataset\n",
    "# define model and parameters\n",
    "model = SVC()\n",
    "kernel = ['poly', 'rbf', 'sigmoid']\n",
    "C = [50, 10, 1.0, 0.1, 0.01]\n",
    "gamma = ['scale']\n",
    "# define grid search\n",
    "grid = dict(kernel=kernel,C=C,gamma=gamma)\n",
    "cv = RepeatedStratifiedKFold(n_splits=10, n_repeats=3, random_state=1)\n",
    "grid_search = GridSearchCV(estimator=model, param_grid=grid, n_jobs=-1, cv=cv, scoring='accuracy',error_score=0)\n",
    "grid_result = grid_search.fit(X, y)\n",
    "# summarize results\n",
    "print(\"Best: %f using %s\" % (grid_result.best_score_, grid_result.best_params_))\n",
    "means = grid_result.cv_results_['mean_test_score']\n",
    "stds = grid_result.cv_results_['std_test_score']\n",
    "params = grid_result.cv_results_['params']\n",
    "for mean, stdev, param in zip(means, stds, params):\n",
    "    print(\"%f (%f) with: %r\" % (mean, stdev, param))"
   ]
  },
  {
   "cell_type": "markdown",
   "metadata": {},
   "source": [
    "# KNN"
   ]
  },
  {
   "cell_type": "code",
   "execution_count": 142,
   "metadata": {},
   "outputs": [
    {
     "name": "stdout",
     "output_type": "stream",
     "text": [
      "Cleaned Orignal Data:\n",
      "              precision    recall  f1-score   support\n",
      "\n",
      "           0       0.00      0.00      0.00         2\n",
      "           1       0.82      0.90      0.86        10\n",
      "           2       0.62      0.71      0.67         7\n",
      "           3       1.00      1.00      1.00         1\n",
      "\n",
      "    accuracy                           0.75        20\n",
      "   macro avg       0.61      0.65      0.63        20\n",
      "weighted avg       0.68      0.75      0.71        20\n",
      "\n",
      "Cleaned Smoted Data:\n",
      "              precision    recall  f1-score   support\n",
      "\n",
      "           0       0.00      0.00      0.00         2\n",
      "           1       0.88      0.70      0.78        10\n",
      "           2       1.00      0.14      0.25         7\n",
      "           3       0.14      1.00      0.25         1\n",
      "\n",
      "    accuracy                           0.45        20\n",
      "   macro avg       0.50      0.46      0.32        20\n",
      "weighted avg       0.79      0.45      0.49        20\n",
      "\n"
     ]
    },
    {
     "name": "stderr",
     "output_type": "stream",
     "text": [
      "c:\\ProgramData\\anaconda3\\lib\\site-packages\\sklearn\\metrics\\_classification.py:1344: UndefinedMetricWarning: Precision and F-score are ill-defined and being set to 0.0 in labels with no predicted samples. Use `zero_division` parameter to control this behavior.\n",
      "  _warn_prf(average, modifier, msg_start, len(result))\n",
      "c:\\ProgramData\\anaconda3\\lib\\site-packages\\sklearn\\metrics\\_classification.py:1344: UndefinedMetricWarning: Precision and F-score are ill-defined and being set to 0.0 in labels with no predicted samples. Use `zero_division` parameter to control this behavior.\n",
      "  _warn_prf(average, modifier, msg_start, len(result))\n",
      "c:\\ProgramData\\anaconda3\\lib\\site-packages\\sklearn\\metrics\\_classification.py:1344: UndefinedMetricWarning: Precision and F-score are ill-defined and being set to 0.0 in labels with no predicted samples. Use `zero_division` parameter to control this behavior.\n",
      "  _warn_prf(average, modifier, msg_start, len(result))\n"
     ]
    }
   ],
   "source": [
    "from sklearn.neighbors import KNeighborsClassifier\n",
    "# define models and parameters\n",
    "model = KNeighborsClassifier()\n",
    "data_modelling(KNeighborsClassifier(metric='manhattan',n_neighbors=17,weights='distance'))\n",
    "# {'metric': 'manhattan', 'n_neighbors': 17, 'weights': 'distance'}"
   ]
  },
  {
   "cell_type": "code",
   "execution_count": 140,
   "metadata": {},
   "outputs": [
    {
     "name": "stdout",
     "output_type": "stream",
     "text": [
      "Best: 0.726667 using {'metric': 'manhattan', 'n_neighbors': 17, 'weights': 'distance'}\n",
      "0.700000 (0.141421) with: {'metric': 'euclidean', 'n_neighbors': 1, 'weights': 'uniform'}\n",
      "0.700000 (0.141421) with: {'metric': 'euclidean', 'n_neighbors': 1, 'weights': 'distance'}\n",
      "0.663333 (0.116857) with: {'metric': 'euclidean', 'n_neighbors': 3, 'weights': 'uniform'}\n",
      "0.723333 (0.120231) with: {'metric': 'euclidean', 'n_neighbors': 3, 'weights': 'distance'}\n",
      "0.673333 (0.133998) with: {'metric': 'euclidean', 'n_neighbors': 5, 'weights': 'uniform'}\n",
      "0.703333 (0.122429) with: {'metric': 'euclidean', 'n_neighbors': 5, 'weights': 'distance'}\n",
      "0.616667 (0.096896) with: {'metric': 'euclidean', 'n_neighbors': 7, 'weights': 'uniform'}\n",
      "0.693333 (0.118134) with: {'metric': 'euclidean', 'n_neighbors': 7, 'weights': 'distance'}\n",
      "0.660000 (0.105198) with: {'metric': 'euclidean', 'n_neighbors': 9, 'weights': 'uniform'}\n",
      "0.703333 (0.107961) with: {'metric': 'euclidean', 'n_neighbors': 9, 'weights': 'distance'}\n",
      "0.620000 (0.094516) with: {'metric': 'euclidean', 'n_neighbors': 11, 'weights': 'uniform'}\n",
      "0.696667 (0.107961) with: {'metric': 'euclidean', 'n_neighbors': 11, 'weights': 'distance'}\n",
      "0.640000 (0.091652) with: {'metric': 'euclidean', 'n_neighbors': 13, 'weights': 'uniform'}\n",
      "0.683333 (0.103548) with: {'metric': 'euclidean', 'n_neighbors': 13, 'weights': 'distance'}\n",
      "0.643333 (0.080346) with: {'metric': 'euclidean', 'n_neighbors': 15, 'weights': 'uniform'}\n",
      "0.673333 (0.112349) with: {'metric': 'euclidean', 'n_neighbors': 15, 'weights': 'distance'}\n",
      "0.626667 (0.092856) with: {'metric': 'euclidean', 'n_neighbors': 17, 'weights': 'uniform'}\n",
      "0.663333 (0.098263) with: {'metric': 'euclidean', 'n_neighbors': 17, 'weights': 'distance'}\n",
      "0.633333 (0.094281) with: {'metric': 'euclidean', 'n_neighbors': 19, 'weights': 'uniform'}\n",
      "0.666667 (0.097753) with: {'metric': 'euclidean', 'n_neighbors': 19, 'weights': 'distance'}\n",
      "0.700000 (0.139044) with: {'metric': 'manhattan', 'n_neighbors': 1, 'weights': 'uniform'}\n",
      "0.700000 (0.139044) with: {'metric': 'manhattan', 'n_neighbors': 1, 'weights': 'distance'}\n",
      "0.660000 (0.120000) with: {'metric': 'manhattan', 'n_neighbors': 3, 'weights': 'uniform'}\n",
      "0.713333 (0.138404) with: {'metric': 'manhattan', 'n_neighbors': 3, 'weights': 'distance'}\n",
      "0.683333 (0.143952) with: {'metric': 'manhattan', 'n_neighbors': 5, 'weights': 'uniform'}\n",
      "0.703333 (0.127758) with: {'metric': 'manhattan', 'n_neighbors': 5, 'weights': 'distance'}\n",
      "0.670000 (0.124231) with: {'metric': 'manhattan', 'n_neighbors': 7, 'weights': 'uniform'}\n",
      "0.683333 (0.118556) with: {'metric': 'manhattan', 'n_neighbors': 7, 'weights': 'distance'}\n",
      "0.666667 (0.101105) with: {'metric': 'manhattan', 'n_neighbors': 9, 'weights': 'uniform'}\n",
      "0.690000 (0.101160) with: {'metric': 'manhattan', 'n_neighbors': 9, 'weights': 'distance'}\n",
      "0.636667 (0.104828) with: {'metric': 'manhattan', 'n_neighbors': 11, 'weights': 'uniform'}\n",
      "0.703333 (0.101598) with: {'metric': 'manhattan', 'n_neighbors': 11, 'weights': 'distance'}\n",
      "0.650000 (0.084656) with: {'metric': 'manhattan', 'n_neighbors': 13, 'weights': 'uniform'}\n",
      "0.720000 (0.094516) with: {'metric': 'manhattan', 'n_neighbors': 13, 'weights': 'distance'}\n",
      "0.666667 (0.074536) with: {'metric': 'manhattan', 'n_neighbors': 15, 'weights': 'uniform'}\n",
      "0.726667 (0.112349) with: {'metric': 'manhattan', 'n_neighbors': 15, 'weights': 'distance'}\n",
      "0.633333 (0.097753) with: {'metric': 'manhattan', 'n_neighbors': 17, 'weights': 'uniform'}\n",
      "0.726667 (0.096379) with: {'metric': 'manhattan', 'n_neighbors': 17, 'weights': 'distance'}\n",
      "0.653333 (0.102415) with: {'metric': 'manhattan', 'n_neighbors': 19, 'weights': 'uniform'}\n",
      "0.716667 (0.096896) with: {'metric': 'manhattan', 'n_neighbors': 19, 'weights': 'distance'}\n",
      "0.700000 (0.141421) with: {'metric': 'minkowski', 'n_neighbors': 1, 'weights': 'uniform'}\n",
      "0.700000 (0.141421) with: {'metric': 'minkowski', 'n_neighbors': 1, 'weights': 'distance'}\n",
      "0.663333 (0.116857) with: {'metric': 'minkowski', 'n_neighbors': 3, 'weights': 'uniform'}\n",
      "0.723333 (0.120231) with: {'metric': 'minkowski', 'n_neighbors': 3, 'weights': 'distance'}\n",
      "0.673333 (0.133998) with: {'metric': 'minkowski', 'n_neighbors': 5, 'weights': 'uniform'}\n",
      "0.703333 (0.122429) with: {'metric': 'minkowski', 'n_neighbors': 5, 'weights': 'distance'}\n",
      "0.616667 (0.096896) with: {'metric': 'minkowski', 'n_neighbors': 7, 'weights': 'uniform'}\n",
      "0.693333 (0.118134) with: {'metric': 'minkowski', 'n_neighbors': 7, 'weights': 'distance'}\n",
      "0.660000 (0.105198) with: {'metric': 'minkowski', 'n_neighbors': 9, 'weights': 'uniform'}\n",
      "0.703333 (0.107961) with: {'metric': 'minkowski', 'n_neighbors': 9, 'weights': 'distance'}\n",
      "0.620000 (0.094516) with: {'metric': 'minkowski', 'n_neighbors': 11, 'weights': 'uniform'}\n",
      "0.696667 (0.107961) with: {'metric': 'minkowski', 'n_neighbors': 11, 'weights': 'distance'}\n",
      "0.640000 (0.091652) with: {'metric': 'minkowski', 'n_neighbors': 13, 'weights': 'uniform'}\n",
      "0.683333 (0.103548) with: {'metric': 'minkowski', 'n_neighbors': 13, 'weights': 'distance'}\n",
      "0.643333 (0.080346) with: {'metric': 'minkowski', 'n_neighbors': 15, 'weights': 'uniform'}\n",
      "0.673333 (0.112349) with: {'metric': 'minkowski', 'n_neighbors': 15, 'weights': 'distance'}\n",
      "0.626667 (0.092856) with: {'metric': 'minkowski', 'n_neighbors': 17, 'weights': 'uniform'}\n",
      "0.663333 (0.098263) with: {'metric': 'minkowski', 'n_neighbors': 17, 'weights': 'distance'}\n",
      "0.633333 (0.094281) with: {'metric': 'minkowski', 'n_neighbors': 19, 'weights': 'uniform'}\n",
      "0.666667 (0.097753) with: {'metric': 'minkowski', 'n_neighbors': 19, 'weights': 'distance'}\n"
     ]
    }
   ],
   "source": [
    "# example of grid searching key hyperparametres for KNeighborsClassifier\n",
    "from sklearn.model_selection import RepeatedStratifiedKFold\n",
    "from sklearn.model_selection import GridSearchCV\n",
    "from sklearn.neighbors import KNeighborsClassifier\n",
    "# define models and parameters\n",
    "model = KNeighborsClassifier()\n",
    "n_neighbors = range(1, 21, 2)\n",
    "weights = ['uniform', 'distance']\n",
    "metric = ['euclidean', 'manhattan', 'minkowski']\n",
    "# define grid search\n",
    "grid = dict(n_neighbors=n_neighbors,weights=weights,metric=metric)\n",
    "cv = RepeatedStratifiedKFold(n_splits=10, n_repeats=3, random_state=1)\n",
    "grid_search = GridSearchCV(estimator=model, param_grid=grid, n_jobs=-1, cv=cv, scoring='accuracy',error_score=0)\n",
    "grid_result = grid_search.fit(X, y)\n",
    "# summarize results\n",
    "print(\"Best: %f using %s\" % (grid_result.best_score_, grid_result.best_params_))\n",
    "means = grid_result.cv_results_['mean_test_score']\n",
    "stds = grid_result.cv_results_['std_test_score']\n",
    "params = grid_result.cv_results_['params']\n",
    "for mean, stdev, param in zip(means, stds, params):\n",
    "    print(\"%f (%f) with: %r\" % (mean, stdev, param))"
   ]
  },
  {
   "cell_type": "markdown",
   "metadata": {},
   "source": [
    "# Bagged Dtree"
   ]
  },
  {
   "cell_type": "code",
   "execution_count": 145,
   "metadata": {},
   "outputs": [
    {
     "name": "stdout",
     "output_type": "stream",
     "text": [
      "Cleaned Orignal Data:\n",
      "              precision    recall  f1-score   support\n",
      "\n",
      "           0       0.00      0.00      0.00         2\n",
      "           1       1.00      0.90      0.95        10\n",
      "           2       0.75      0.86      0.80         7\n",
      "           3       0.00      0.00      0.00         1\n",
      "\n",
      "    accuracy                           0.75        20\n",
      "   macro avg       0.44      0.44      0.44        20\n",
      "weighted avg       0.76      0.75      0.75        20\n",
      "\n",
      "Cleaned Smoted Data:\n",
      "              precision    recall  f1-score   support\n",
      "\n",
      "           0       0.33      0.50      0.40         2\n",
      "           1       1.00      0.80      0.89        10\n",
      "           2       1.00      0.86      0.92         7\n",
      "           3       0.33      1.00      0.50         1\n",
      "\n",
      "    accuracy                           0.80        20\n",
      "   macro avg       0.67      0.79      0.68        20\n",
      "weighted avg       0.90      0.80      0.83        20\n",
      "\n"
     ]
    }
   ],
   "source": [
    "from sklearn.ensemble import BaggingClassifier\n",
    "data_modelling(BaggingClassifier(n_estimators=1000))"
   ]
  },
  {
   "cell_type": "code",
   "execution_count": 144,
   "metadata": {},
   "outputs": [
    {
     "name": "stdout",
     "output_type": "stream",
     "text": [
      "Best: 0.756667 using {'n_estimators': 1000}\n",
      "0.730000 (0.100499) with: {'n_estimators': 10}\n",
      "0.740000 (0.091652) with: {'n_estimators': 100}\n",
      "0.756667 (0.080346) with: {'n_estimators': 1000}\n"
     ]
    }
   ],
   "source": [
    "# example of grid searching key hyperparameters for BaggingClassifier\n",
    "from sklearn.datasets import make_blobs\n",
    "from sklearn.model_selection import RepeatedStratifiedKFold\n",
    "from sklearn.model_selection import GridSearchCV\n",
    "# define dataset\n",
    "# define models and parameters\n",
    "model = BaggingClassifier()\n",
    "n_estimators = [10, 100, 1000]\n",
    "# define grid search\n",
    "grid = dict(n_estimators=n_estimators)\n",
    "cv = RepeatedStratifiedKFold(n_splits=10, n_repeats=3, random_state=1)\n",
    "grid_search = GridSearchCV(estimator=model, param_grid=grid, n_jobs=-1, cv=cv, scoring='accuracy',error_score=0)\n",
    "grid_result = grid_search.fit(X, y)\n",
    "# summarize results\n",
    "print(\"Best: %f using %s\" % (grid_result.best_score_, grid_result.best_params_))\n",
    "means = grid_result.cv_results_['mean_test_score']\n",
    "stds = grid_result.cv_results_['std_test_score']\n",
    "params = grid_result.cv_results_['params']\n",
    "for mean, stdev, param in zip(means, stds, params):\n",
    "    print(\"%f (%f) with: %r\" % (mean, stdev, param))"
   ]
  },
  {
   "cell_type": "markdown",
   "metadata": {},
   "source": []
  }
 ],
 "metadata": {
  "kernelspec": {
   "display_name": "base",
   "language": "python",
   "name": "python3"
  },
  "language_info": {
   "codemirror_mode": {
    "name": "ipython",
    "version": 3
   },
   "file_extension": ".py",
   "mimetype": "text/x-python",
   "name": "python",
   "nbconvert_exporter": "python",
   "pygments_lexer": "ipython3",
   "version": "3.10.9"
  }
 },
 "nbformat": 4,
 "nbformat_minor": 2
}
