{
 "cells": [
  {
   "cell_type": "markdown",
   "metadata": {},
   "source": [
    "# Exasens Dataset"
   ]
  },
  {
   "cell_type": "code",
   "execution_count": 19,
   "metadata": {},
   "outputs": [],
   "source": [
    "import pandas as pd\n",
    "import seaborn as sns\n",
    "from imblearn.over_sampling import SMOTE"
   ]
  },
  {
   "cell_type": "markdown",
   "metadata": {},
   "source": [
    "\n",
    "# Importing the data"
   ]
  },
  {
   "cell_type": "code",
   "execution_count": 2,
   "metadata": {},
   "outputs": [
    {
     "data": {
      "text/html": [
       "<div>\n",
       "<style scoped>\n",
       "    .dataframe tbody tr th:only-of-type {\n",
       "        vertical-align: middle;\n",
       "    }\n",
       "\n",
       "    .dataframe tbody tr th {\n",
       "        vertical-align: top;\n",
       "    }\n",
       "\n",
       "    .dataframe thead th {\n",
       "        text-align: right;\n",
       "    }\n",
       "</style>\n",
       "<table border=\"1\" class=\"dataframe\">\n",
       "  <thead>\n",
       "    <tr style=\"text-align: right;\">\n",
       "      <th></th>\n",
       "      <th>Diagnosis</th>\n",
       "      <th>ID</th>\n",
       "      <th>Imaginary Part</th>\n",
       "      <th>Unnamed: 3</th>\n",
       "      <th>Real Part</th>\n",
       "      <th>Unnamed: 5</th>\n",
       "      <th>Gender</th>\n",
       "      <th>Age</th>\n",
       "      <th>Smoking</th>\n",
       "      <th>Unnamed: 9</th>\n",
       "      <th>Unnamed: 10</th>\n",
       "      <th>Unnamed: 11</th>\n",
       "      <th>Unnamed: 12</th>\n",
       "    </tr>\n",
       "  </thead>\n",
       "  <tbody>\n",
       "    <tr>\n",
       "      <th>0</th>\n",
       "      <td>NaN</td>\n",
       "      <td>NaN</td>\n",
       "      <td>NaN</td>\n",
       "      <td>NaN</td>\n",
       "      <td>NaN</td>\n",
       "      <td>NaN</td>\n",
       "      <td>NaN</td>\n",
       "      <td>NaN</td>\n",
       "      <td>NaN</td>\n",
       "      <td>NaN</td>\n",
       "      <td>NaN</td>\n",
       "      <td>NaN</td>\n",
       "      <td>NaN</td>\n",
       "    </tr>\n",
       "    <tr>\n",
       "      <th>1</th>\n",
       "      <td>NaN</td>\n",
       "      <td>NaN</td>\n",
       "      <td>Min</td>\n",
       "      <td>Avg.</td>\n",
       "      <td>Min</td>\n",
       "      <td>Avg.</td>\n",
       "      <td>NaN</td>\n",
       "      <td>NaN</td>\n",
       "      <td>NaN</td>\n",
       "      <td>NaN</td>\n",
       "      <td>NaN</td>\n",
       "      <td>Gender</td>\n",
       "      <td>Somking</td>\n",
       "    </tr>\n",
       "    <tr>\n",
       "      <th>2</th>\n",
       "      <td>COPD</td>\n",
       "      <td>301-4</td>\n",
       "      <td>-320.61</td>\n",
       "      <td>-300.5635307</td>\n",
       "      <td>-495.26</td>\n",
       "      <td>-464.1719907</td>\n",
       "      <td>1.0</td>\n",
       "      <td>77.0</td>\n",
       "      <td>2.0</td>\n",
       "      <td>NaN</td>\n",
       "      <td>NaN</td>\n",
       "      <td>Male=1</td>\n",
       "      <td>Non-smoker=1</td>\n",
       "    </tr>\n",
       "    <tr>\n",
       "      <th>3</th>\n",
       "      <td>COPD</td>\n",
       "      <td>302-3</td>\n",
       "      <td>-325.39</td>\n",
       "      <td>-314.7503595</td>\n",
       "      <td>-473.73</td>\n",
       "      <td>-469.2631404</td>\n",
       "      <td>0.0</td>\n",
       "      <td>72.0</td>\n",
       "      <td>2.0</td>\n",
       "      <td>NaN</td>\n",
       "      <td>NaN</td>\n",
       "      <td>Female=0</td>\n",
       "      <td>Ex-smoker=2</td>\n",
       "    </tr>\n",
       "    <tr>\n",
       "      <th>4</th>\n",
       "      <td>COPD</td>\n",
       "      <td>303-3</td>\n",
       "      <td>-323</td>\n",
       "      <td>-317.4360556</td>\n",
       "      <td>-476.12</td>\n",
       "      <td>-471.8976667</td>\n",
       "      <td>1.0</td>\n",
       "      <td>73.0</td>\n",
       "      <td>3.0</td>\n",
       "      <td>NaN</td>\n",
       "      <td>NaN</td>\n",
       "      <td>NaN</td>\n",
       "      <td>Active-smoker=3</td>\n",
       "    </tr>\n",
       "  </tbody>\n",
       "</table>\n",
       "</div>"
      ],
      "text/plain": [
       "  Diagnosis     ID Imaginary Part    Unnamed: 3 Real Part    Unnamed: 5  \\\n",
       "0       NaN    NaN            NaN           NaN       NaN           NaN   \n",
       "1       NaN    NaN           Min          Avg.       Min          Avg.    \n",
       "2      COPD  301-4        -320.61  -300.5635307   -495.26  -464.1719907   \n",
       "3      COPD  302-3        -325.39  -314.7503595   -473.73  -469.2631404   \n",
       "4      COPD  303-3           -323  -317.4360556   -476.12  -471.8976667   \n",
       "\n",
       "   Gender   Age  Smoking  Unnamed: 9  Unnamed: 10 Unnamed: 11      Unnamed: 12  \n",
       "0     NaN   NaN      NaN         NaN          NaN         NaN              NaN  \n",
       "1     NaN   NaN      NaN         NaN          NaN     Gender           Somking  \n",
       "2     1.0  77.0      2.0         NaN          NaN      Male=1     Non-smoker=1  \n",
       "3     0.0  72.0      2.0         NaN          NaN    Female=0      Ex-smoker=2  \n",
       "4     1.0  73.0      3.0         NaN          NaN         NaN  Active-smoker=3  "
      ]
     },
     "execution_count": 2,
     "metadata": {},
     "output_type": "execute_result"
    }
   ],
   "source": [
    "data = pd.read_csv('Exasens.csv')\n",
    "data.head()"
   ]
  },
  {
   "cell_type": "code",
   "execution_count": 3,
   "metadata": {},
   "outputs": [
    {
     "data": {
      "text/html": [
       "<div>\n",
       "<style scoped>\n",
       "    .dataframe tbody tr th:only-of-type {\n",
       "        vertical-align: middle;\n",
       "    }\n",
       "\n",
       "    .dataframe tbody tr th {\n",
       "        vertical-align: top;\n",
       "    }\n",
       "\n",
       "    .dataframe thead th {\n",
       "        text-align: right;\n",
       "    }\n",
       "</style>\n",
       "<table border=\"1\" class=\"dataframe\">\n",
       "  <thead>\n",
       "    <tr style=\"text-align: right;\">\n",
       "      <th></th>\n",
       "      <th>Diagnosis</th>\n",
       "      <th>ID</th>\n",
       "      <th>Imaginary Part</th>\n",
       "      <th>Unnamed: 3</th>\n",
       "      <th>Real Part</th>\n",
       "      <th>Unnamed: 5</th>\n",
       "      <th>Gender</th>\n",
       "      <th>Age</th>\n",
       "      <th>Smoking</th>\n",
       "    </tr>\n",
       "  </thead>\n",
       "  <tbody>\n",
       "    <tr>\n",
       "      <th>0</th>\n",
       "      <td>COPD</td>\n",
       "      <td>301-4</td>\n",
       "      <td>-320.61</td>\n",
       "      <td>-300.5635307</td>\n",
       "      <td>-495.26</td>\n",
       "      <td>-464.1719907</td>\n",
       "      <td>1.0</td>\n",
       "      <td>77.0</td>\n",
       "      <td>2.0</td>\n",
       "    </tr>\n",
       "    <tr>\n",
       "      <th>1</th>\n",
       "      <td>COPD</td>\n",
       "      <td>302-3</td>\n",
       "      <td>-325.39</td>\n",
       "      <td>-314.7503595</td>\n",
       "      <td>-473.73</td>\n",
       "      <td>-469.2631404</td>\n",
       "      <td>0.0</td>\n",
       "      <td>72.0</td>\n",
       "      <td>2.0</td>\n",
       "    </tr>\n",
       "    <tr>\n",
       "      <th>2</th>\n",
       "      <td>COPD</td>\n",
       "      <td>303-3</td>\n",
       "      <td>-323</td>\n",
       "      <td>-317.4360556</td>\n",
       "      <td>-476.12</td>\n",
       "      <td>-471.8976667</td>\n",
       "      <td>1.0</td>\n",
       "      <td>73.0</td>\n",
       "      <td>3.0</td>\n",
       "    </tr>\n",
       "    <tr>\n",
       "      <th>3</th>\n",
       "      <td>COPD</td>\n",
       "      <td>304-4</td>\n",
       "      <td>-327.78</td>\n",
       "      <td>-317.3996698</td>\n",
       "      <td>-473.73</td>\n",
       "      <td>-468.856388</td>\n",
       "      <td>1.0</td>\n",
       "      <td>76.0</td>\n",
       "      <td>2.0</td>\n",
       "    </tr>\n",
       "    <tr>\n",
       "      <th>4</th>\n",
       "      <td>COPD</td>\n",
       "      <td>305-4</td>\n",
       "      <td>-325.39</td>\n",
       "      <td>-316.1557853</td>\n",
       "      <td>-478.52</td>\n",
       "      <td>-472.8697828</td>\n",
       "      <td>0.0</td>\n",
       "      <td>65.0</td>\n",
       "      <td>2.0</td>\n",
       "    </tr>\n",
       "  </tbody>\n",
       "</table>\n",
       "</div>"
      ],
      "text/plain": [
       "  Diagnosis     ID Imaginary Part    Unnamed: 3 Real Part    Unnamed: 5  \\\n",
       "0      COPD  301-4        -320.61  -300.5635307   -495.26  -464.1719907   \n",
       "1      COPD  302-3        -325.39  -314.7503595   -473.73  -469.2631404   \n",
       "2      COPD  303-3           -323  -317.4360556   -476.12  -471.8976667   \n",
       "3      COPD  304-4        -327.78  -317.3996698   -473.73   -468.856388   \n",
       "4      COPD  305-4        -325.39  -316.1557853   -478.52  -472.8697828   \n",
       "\n",
       "   Gender   Age  Smoking  \n",
       "0     1.0  77.0      2.0  \n",
       "1     0.0  72.0      2.0  \n",
       "2     1.0  73.0      3.0  \n",
       "3     1.0  76.0      2.0  \n",
       "4     0.0  65.0      2.0  "
      ]
     },
     "execution_count": 3,
     "metadata": {},
     "output_type": "execute_result"
    }
   ],
   "source": [
    "data.drop([0,1],inplace=True)\n",
    "data.drop(['Unnamed: 9','Unnamed: 10','Unnamed: 11','Unnamed: 12'], axis = 1,inplace=True)\n",
    "data.reset_index(drop=True).head()"
   ]
  },
  {
   "cell_type": "code",
   "execution_count": 4,
   "metadata": {},
   "outputs": [],
   "source": [
    "data.rename(columns={'Imaginary Part':'Imaginary Part: Min','Unnamed: 3':'Imaginary Part: Avg','Real Part':'Real Part: Min','Unnamed: 5':'Real Part: Avg'}, inplace = True)"
   ]
  },
  {
   "cell_type": "code",
   "execution_count": 5,
   "metadata": {},
   "outputs": [
    {
     "data": {
      "text/html": [
       "<div>\n",
       "<style scoped>\n",
       "    .dataframe tbody tr th:only-of-type {\n",
       "        vertical-align: middle;\n",
       "    }\n",
       "\n",
       "    .dataframe tbody tr th {\n",
       "        vertical-align: top;\n",
       "    }\n",
       "\n",
       "    .dataframe thead th {\n",
       "        text-align: right;\n",
       "    }\n",
       "</style>\n",
       "<table border=\"1\" class=\"dataframe\">\n",
       "  <thead>\n",
       "    <tr style=\"text-align: right;\">\n",
       "      <th></th>\n",
       "      <th>Diagnosis</th>\n",
       "      <th>ID</th>\n",
       "      <th>Imaginary Part: Min</th>\n",
       "      <th>Imaginary Part: Avg</th>\n",
       "      <th>Real Part: Min</th>\n",
       "      <th>Real Part: Avg</th>\n",
       "      <th>Gender</th>\n",
       "      <th>Age</th>\n",
       "      <th>Smoking</th>\n",
       "    </tr>\n",
       "  </thead>\n",
       "  <tbody>\n",
       "    <tr>\n",
       "      <th>2</th>\n",
       "      <td>COPD</td>\n",
       "      <td>301-4</td>\n",
       "      <td>-320.61</td>\n",
       "      <td>-300.5635307</td>\n",
       "      <td>-495.26</td>\n",
       "      <td>-464.1719907</td>\n",
       "      <td>1.0</td>\n",
       "      <td>77.0</td>\n",
       "      <td>2.0</td>\n",
       "    </tr>\n",
       "    <tr>\n",
       "      <th>3</th>\n",
       "      <td>COPD</td>\n",
       "      <td>302-3</td>\n",
       "      <td>-325.39</td>\n",
       "      <td>-314.7503595</td>\n",
       "      <td>-473.73</td>\n",
       "      <td>-469.2631404</td>\n",
       "      <td>0.0</td>\n",
       "      <td>72.0</td>\n",
       "      <td>2.0</td>\n",
       "    </tr>\n",
       "    <tr>\n",
       "      <th>4</th>\n",
       "      <td>COPD</td>\n",
       "      <td>303-3</td>\n",
       "      <td>-323</td>\n",
       "      <td>-317.4360556</td>\n",
       "      <td>-476.12</td>\n",
       "      <td>-471.8976667</td>\n",
       "      <td>1.0</td>\n",
       "      <td>73.0</td>\n",
       "      <td>3.0</td>\n",
       "    </tr>\n",
       "    <tr>\n",
       "      <th>5</th>\n",
       "      <td>COPD</td>\n",
       "      <td>304-4</td>\n",
       "      <td>-327.78</td>\n",
       "      <td>-317.3996698</td>\n",
       "      <td>-473.73</td>\n",
       "      <td>-468.856388</td>\n",
       "      <td>1.0</td>\n",
       "      <td>76.0</td>\n",
       "      <td>2.0</td>\n",
       "    </tr>\n",
       "    <tr>\n",
       "      <th>6</th>\n",
       "      <td>COPD</td>\n",
       "      <td>305-4</td>\n",
       "      <td>-325.39</td>\n",
       "      <td>-316.1557853</td>\n",
       "      <td>-478.52</td>\n",
       "      <td>-472.8697828</td>\n",
       "      <td>0.0</td>\n",
       "      <td>65.0</td>\n",
       "      <td>2.0</td>\n",
       "    </tr>\n",
       "  </tbody>\n",
       "</table>\n",
       "</div>"
      ],
      "text/plain": [
       "  Diagnosis     ID Imaginary Part: Min Imaginary Part: Avg Real Part: Min  \\\n",
       "2      COPD  301-4             -320.61        -300.5635307        -495.26   \n",
       "3      COPD  302-3             -325.39        -314.7503595        -473.73   \n",
       "4      COPD  303-3                -323        -317.4360556        -476.12   \n",
       "5      COPD  304-4             -327.78        -317.3996698        -473.73   \n",
       "6      COPD  305-4             -325.39        -316.1557853        -478.52   \n",
       "\n",
       "  Real Part: Avg  Gender   Age  Smoking  \n",
       "2   -464.1719907     1.0  77.0      2.0  \n",
       "3   -469.2631404     0.0  72.0      2.0  \n",
       "4   -471.8976667     1.0  73.0      3.0  \n",
       "5    -468.856388     1.0  76.0      2.0  \n",
       "6   -472.8697828     0.0  65.0      2.0  "
      ]
     },
     "execution_count": 5,
     "metadata": {},
     "output_type": "execute_result"
    }
   ],
   "source": [
    "data.head()"
   ]
  },
  {
   "cell_type": "markdown",
   "metadata": {},
   "source": [
    "# Data Cleaning and Balancing"
   ]
  },
  {
   "cell_type": "code",
   "execution_count": 6,
   "metadata": {},
   "outputs": [
    {
     "name": "stdout",
     "output_type": "stream",
     "text": [
      "<class 'pandas.core.frame.DataFrame'>\n",
      "RangeIndex: 399 entries, 2 to 400\n",
      "Data columns (total 9 columns):\n",
      " #   Column               Non-Null Count  Dtype  \n",
      "---  ------               --------------  -----  \n",
      " 0   Diagnosis            399 non-null    object \n",
      " 1   ID                   399 non-null    object \n",
      " 2   Imaginary Part: Min  100 non-null    object \n",
      " 3   Imaginary Part: Avg  100 non-null    object \n",
      " 4   Real Part: Min       100 non-null    object \n",
      " 5   Real Part: Avg       100 non-null    object \n",
      " 6   Gender               399 non-null    float64\n",
      " 7   Age                  399 non-null    float64\n",
      " 8   Smoking              399 non-null    float64\n",
      "dtypes: float64(3), object(6)\n",
      "memory usage: 28.2+ KB\n"
     ]
    }
   ],
   "source": [
    "data.info()"
   ]
  },
  {
   "cell_type": "code",
   "execution_count": 7,
   "metadata": {},
   "outputs": [],
   "source": [
    "data[['Imaginary Part: Min','Imaginary Part: Avg','Real Part: Min','Real Part: Avg']] = data[['Imaginary Part: Min','Imaginary Part: Avg','Real Part: Min','Real Part: Avg']].astype('float64')"
   ]
  },
  {
   "cell_type": "code",
   "execution_count": 8,
   "metadata": {},
   "outputs": [
    {
     "name": "stdout",
     "output_type": "stream",
     "text": [
      "<class 'pandas.core.frame.DataFrame'>\n",
      "RangeIndex: 399 entries, 2 to 400\n",
      "Data columns (total 9 columns):\n",
      " #   Column               Non-Null Count  Dtype  \n",
      "---  ------               --------------  -----  \n",
      " 0   Diagnosis            399 non-null    object \n",
      " 1   ID                   399 non-null    object \n",
      " 2   Imaginary Part: Min  100 non-null    float64\n",
      " 3   Imaginary Part: Avg  100 non-null    float64\n",
      " 4   Real Part: Min       100 non-null    float64\n",
      " 5   Real Part: Avg       100 non-null    float64\n",
      " 6   Gender               399 non-null    float64\n",
      " 7   Age                  399 non-null    float64\n",
      " 8   Smoking              399 non-null    float64\n",
      "dtypes: float64(7), object(2)\n",
      "memory usage: 28.2+ KB\n"
     ]
    }
   ],
   "source": [
    "data.info()"
   ]
  },
  {
   "cell_type": "code",
   "execution_count": 9,
   "metadata": {},
   "outputs": [
    {
     "data": {
      "text/html": [
       "<div>\n",
       "<style scoped>\n",
       "    .dataframe tbody tr th:only-of-type {\n",
       "        vertical-align: middle;\n",
       "    }\n",
       "\n",
       "    .dataframe tbody tr th {\n",
       "        vertical-align: top;\n",
       "    }\n",
       "\n",
       "    .dataframe thead th {\n",
       "        text-align: right;\n",
       "    }\n",
       "</style>\n",
       "<table border=\"1\" class=\"dataframe\">\n",
       "  <thead>\n",
       "    <tr style=\"text-align: right;\">\n",
       "      <th></th>\n",
       "      <th>Imaginary Part: Min</th>\n",
       "      <th>Imaginary Part: Avg</th>\n",
       "      <th>Real Part: Min</th>\n",
       "      <th>Real Part: Avg</th>\n",
       "      <th>Gender</th>\n",
       "      <th>Age</th>\n",
       "      <th>Smoking</th>\n",
       "    </tr>\n",
       "  </thead>\n",
       "  <tbody>\n",
       "    <tr>\n",
       "      <th>count</th>\n",
       "      <td>100.000000</td>\n",
       "      <td>100.000000</td>\n",
       "      <td>100.000000</td>\n",
       "      <td>100.000000</td>\n",
       "      <td>399.000000</td>\n",
       "      <td>399.000000</td>\n",
       "      <td>399.000000</td>\n",
       "    </tr>\n",
       "    <tr>\n",
       "      <th>mean</th>\n",
       "      <td>-314.941800</td>\n",
       "      <td>-304.779677</td>\n",
       "      <td>-473.002200</td>\n",
       "      <td>-458.701666</td>\n",
       "      <td>0.398496</td>\n",
       "      <td>48.736842</td>\n",
       "      <td>1.726817</td>\n",
       "    </tr>\n",
       "    <tr>\n",
       "      <th>std</th>\n",
       "      <td>28.422753</td>\n",
       "      <td>25.834316</td>\n",
       "      <td>49.009819</td>\n",
       "      <td>43.725345</td>\n",
       "      <td>0.490203</td>\n",
       "      <td>18.566962</td>\n",
       "      <td>0.742167</td>\n",
       "    </tr>\n",
       "    <tr>\n",
       "      <th>min</th>\n",
       "      <td>-337.350000</td>\n",
       "      <td>-328.280985</td>\n",
       "      <td>-626.860000</td>\n",
       "      <td>-473.928698</td>\n",
       "      <td>0.000000</td>\n",
       "      <td>17.000000</td>\n",
       "      <td>1.000000</td>\n",
       "    </tr>\n",
       "    <tr>\n",
       "      <th>25%</th>\n",
       "      <td>-327.780000</td>\n",
       "      <td>-318.476799</td>\n",
       "      <td>-476.120000</td>\n",
       "      <td>-470.036232</td>\n",
       "      <td>0.000000</td>\n",
       "      <td>31.000000</td>\n",
       "      <td>1.000000</td>\n",
       "    </tr>\n",
       "    <tr>\n",
       "      <th>50%</th>\n",
       "      <td>-323.000000</td>\n",
       "      <td>-314.327176</td>\n",
       "      <td>-473.730000</td>\n",
       "      <td>-467.136002</td>\n",
       "      <td>0.000000</td>\n",
       "      <td>49.000000</td>\n",
       "      <td>2.000000</td>\n",
       "    </tr>\n",
       "    <tr>\n",
       "      <th>75%</th>\n",
       "      <td>-320.610000</td>\n",
       "      <td>-305.072319</td>\n",
       "      <td>-468.950000</td>\n",
       "      <td>-462.804774</td>\n",
       "      <td>1.000000</td>\n",
       "      <td>64.000000</td>\n",
       "      <td>2.000000</td>\n",
       "    </tr>\n",
       "    <tr>\n",
       "      <th>max</th>\n",
       "      <td>-225.000000</td>\n",
       "      <td>-225.000000</td>\n",
       "      <td>-44.000000</td>\n",
       "      <td>-44.000000</td>\n",
       "      <td>1.000000</td>\n",
       "      <td>93.000000</td>\n",
       "      <td>3.000000</td>\n",
       "    </tr>\n",
       "  </tbody>\n",
       "</table>\n",
       "</div>"
      ],
      "text/plain": [
       "       Imaginary Part: Min  Imaginary Part: Avg  Real Part: Min  \\\n",
       "count           100.000000           100.000000      100.000000   \n",
       "mean           -314.941800          -304.779677     -473.002200   \n",
       "std              28.422753            25.834316       49.009819   \n",
       "min            -337.350000          -328.280985     -626.860000   \n",
       "25%            -327.780000          -318.476799     -476.120000   \n",
       "50%            -323.000000          -314.327176     -473.730000   \n",
       "75%            -320.610000          -305.072319     -468.950000   \n",
       "max            -225.000000          -225.000000      -44.000000   \n",
       "\n",
       "       Real Part: Avg      Gender         Age     Smoking  \n",
       "count      100.000000  399.000000  399.000000  399.000000  \n",
       "mean      -458.701666    0.398496   48.736842    1.726817  \n",
       "std         43.725345    0.490203   18.566962    0.742167  \n",
       "min       -473.928698    0.000000   17.000000    1.000000  \n",
       "25%       -470.036232    0.000000   31.000000    1.000000  \n",
       "50%       -467.136002    0.000000   49.000000    2.000000  \n",
       "75%       -462.804774    1.000000   64.000000    2.000000  \n",
       "max        -44.000000    1.000000   93.000000    3.000000  "
      ]
     },
     "execution_count": 9,
     "metadata": {},
     "output_type": "execute_result"
    }
   ],
   "source": [
    "data.describe()"
   ]
  },
  {
   "cell_type": "code",
   "execution_count": 10,
   "metadata": {},
   "outputs": [
    {
     "data": {
      "text/plain": [
       "<Axes: >"
      ]
     },
     "execution_count": 10,
     "metadata": {},
     "output_type": "execute_result"
    },
    {
     "data": {
      "image/png": "[encoded data removed]",
      "text/plain": [
       "<Figure size 640x480 with 2 Axes>"
      ]
     },
     "metadata": {},
     "output_type": "display_data"
    }
   ],
   "source": [
    "sns.heatmap(data.isnull(),cmap='viridis')"
   ]
  },
  {
   "cell_type": "code",
   "execution_count": 11,
   "metadata": {},
   "outputs": [],
   "source": [
    "# What is this Imaginary Part/Real Part?"
   ]
  },
  {
   "cell_type": "code",
   "execution_count": 14,
   "metadata": {},
   "outputs": [],
   "source": [
    "data.dropna(inplace=True)"
   ]
  },
  {
   "cell_type": "code",
   "execution_count": 22,
   "metadata": {},
   "outputs": [
    {
     "data": {
      "text/plain": [
       "COPD        40.0\n",
       "HC          40.0\n",
       "Asthma      10.0\n",
       "Infected    10.0\n",
       "Name: Diagnosis, dtype: float64"
      ]
     },
     "execution_count": 22,
     "metadata": {},
     "output_type": "execute_result"
    }
   ],
   "source": [
    "# Checking for class imbalance?\n",
    "data['Diagnosis'].value_counts(normalize=True)*100"
   ]
  },
  {
   "cell_type": "code",
   "execution_count": 25,
   "metadata": {},
   "outputs": [],
   "source": [
    "X = data.drop(['Diagnosis','ID'], axis = 1)\n",
    "y = data['Diagnosis']"
   ]
  },
  {
   "cell_type": "code",
   "execution_count": 44,
   "metadata": {},
   "outputs": [],
   "source": [
    "# Balancing the classes using smote\n",
    "smoter = SMOTE()\n",
    "X_smoted, y_smoted = smoter.fit_resample(X,y)\n",
    "smoted_data = pd.concat([pd.DataFrame(X_smoted, columns=X.columns), pd.Series(y_smoted, name='Diagnosis')], axis=1)\n",
    "\n",
    "# Display the resampled DataFrame"
   ]
  },
  {
   "cell_type": "code",
   "execution_count": 45,
   "metadata": {},
   "outputs": [
    {
     "data": {
      "text/plain": [
       "COPD        40\n",
       "HC          40\n",
       "Asthma      40\n",
       "Infected    40\n",
       "Name: Diagnosis, dtype: int64"
      ]
     },
     "execution_count": 45,
     "metadata": {},
     "output_type": "execute_result"
    }
   ],
   "source": [
    "# Now our data is balanced\n",
    "smoted_data['Diagnosis'].value_counts()"
   ]
  },
  {
   "cell_type": "code",
   "execution_count": 47,
   "metadata": {},
   "outputs": [
    {
     "name": "stdout",
     "output_type": "stream",
     "text": [
      "<class 'pandas.core.frame.DataFrame'>\n",
      "RangeIndex: 160 entries, 0 to 159\n",
      "Data columns (total 8 columns):\n",
      " #   Column               Non-Null Count  Dtype  \n",
      "---  ------               --------------  -----  \n",
      " 0   Imaginary Part: Min  160 non-null    float64\n",
      " 1   Imaginary Part: Avg  160 non-null    float64\n",
      " 2   Real Part: Min       160 non-null    float64\n",
      " 3   Real Part: Avg       160 non-null    float64\n",
      " 4   Gender               160 non-null    float64\n",
      " 5   Age                  160 non-null    float64\n",
      " 6   Smoking              160 non-null    float64\n",
      " 7   Diagnosis            160 non-null    object \n",
      "dtypes: float64(7), object(1)\n",
      "memory usage: 10.1+ KB\n"
     ]
    }
   ],
   "source": [
    "smoted_data.info()"
   ]
  },
  {
   "cell_type": "code",
   "execution_count": 46,
   "metadata": {},
   "outputs": [],
   "source": [
    "smoted_data.to_csv('cleaned_data.csv')"
   ]
  }
 ],
 "metadata": {
  "kernelspec": {
   "display_name": "base",
   "language": "python",
   "name": "python3"
  },
  "language_info": {
   "codemirror_mode": {
    "name": "ipython",
    "version": 3
   },
   "file_extension": ".py",
   "mimetype": "text/x-python",
   "name": "python",
   "nbconvert_exporter": "python",
   "pygments_lexer": "ipython3",
   "version": "3.10.9"
  }
 },
 "nbformat": 4,
 "nbformat_minor": 2
}
